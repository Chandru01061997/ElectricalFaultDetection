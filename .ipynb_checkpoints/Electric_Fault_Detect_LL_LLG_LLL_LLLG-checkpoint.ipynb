{
 "cells": [
  {
   "cell_type": "code",
   "execution_count": 1,
   "id": "826e94df",
   "metadata": {},
   "outputs": [],
   "source": [
    "import numpy as np\n",
    "import pandas as pd\n",
    "import matplotlib.pyplot as plt\n",
    "import seaborn as sns"
   ]
  },
  {
   "cell_type": "code",
   "execution_count": 4,
   "id": "c74434bc",
   "metadata": {},
   "outputs": [],
   "source": [
    "elec_df = pd.read_csv(\"/DataSets/Electric_Fault_Detection/classData.csv\")"
   ]
  },
  {
   "cell_type": "code",
   "execution_count": 5,
   "id": "97f494c7",
   "metadata": {},
   "outputs": [
    {
     "data": {
      "text/html": [
       "<div>\n",
       "<style scoped>\n",
       "    .dataframe tbody tr th:only-of-type {\n",
       "        vertical-align: middle;\n",
       "    }\n",
       "\n",
       "    .dataframe tbody tr th {\n",
       "        vertical-align: top;\n",
       "    }\n",
       "\n",
       "    .dataframe thead th {\n",
       "        text-align: right;\n",
       "    }\n",
       "</style>\n",
       "<table border=\"1\" class=\"dataframe\">\n",
       "  <thead>\n",
       "    <tr style=\"text-align: right;\">\n",
       "      <th></th>\n",
       "      <th>G</th>\n",
       "      <th>C</th>\n",
       "      <th>B</th>\n",
       "      <th>A</th>\n",
       "      <th>Ia</th>\n",
       "      <th>Ib</th>\n",
       "      <th>Ic</th>\n",
       "      <th>Va</th>\n",
       "      <th>Vb</th>\n",
       "      <th>Vc</th>\n",
       "    </tr>\n",
       "  </thead>\n",
       "  <tbody>\n",
       "    <tr>\n",
       "      <th>0</th>\n",
       "      <td>1</td>\n",
       "      <td>0</td>\n",
       "      <td>0</td>\n",
       "      <td>1</td>\n",
       "      <td>-151.291812</td>\n",
       "      <td>-9.677452</td>\n",
       "      <td>85.800162</td>\n",
       "      <td>0.400750</td>\n",
       "      <td>-0.132935</td>\n",
       "      <td>-0.267815</td>\n",
       "    </tr>\n",
       "    <tr>\n",
       "      <th>1</th>\n",
       "      <td>1</td>\n",
       "      <td>0</td>\n",
       "      <td>0</td>\n",
       "      <td>1</td>\n",
       "      <td>-336.186183</td>\n",
       "      <td>-76.283262</td>\n",
       "      <td>18.328897</td>\n",
       "      <td>0.312732</td>\n",
       "      <td>-0.123633</td>\n",
       "      <td>-0.189099</td>\n",
       "    </tr>\n",
       "    <tr>\n",
       "      <th>2</th>\n",
       "      <td>1</td>\n",
       "      <td>0</td>\n",
       "      <td>0</td>\n",
       "      <td>1</td>\n",
       "      <td>-502.891583</td>\n",
       "      <td>-174.648023</td>\n",
       "      <td>-80.924663</td>\n",
       "      <td>0.265728</td>\n",
       "      <td>-0.114301</td>\n",
       "      <td>-0.151428</td>\n",
       "    </tr>\n",
       "    <tr>\n",
       "      <th>3</th>\n",
       "      <td>1</td>\n",
       "      <td>0</td>\n",
       "      <td>0</td>\n",
       "      <td>1</td>\n",
       "      <td>-593.941905</td>\n",
       "      <td>-217.703359</td>\n",
       "      <td>-124.891924</td>\n",
       "      <td>0.235511</td>\n",
       "      <td>-0.104940</td>\n",
       "      <td>-0.130570</td>\n",
       "    </tr>\n",
       "    <tr>\n",
       "      <th>4</th>\n",
       "      <td>1</td>\n",
       "      <td>0</td>\n",
       "      <td>0</td>\n",
       "      <td>1</td>\n",
       "      <td>-643.663617</td>\n",
       "      <td>-224.159427</td>\n",
       "      <td>-132.282815</td>\n",
       "      <td>0.209537</td>\n",
       "      <td>-0.095554</td>\n",
       "      <td>-0.113983</td>\n",
       "    </tr>\n",
       "    <tr>\n",
       "      <th>...</th>\n",
       "      <td>...</td>\n",
       "      <td>...</td>\n",
       "      <td>...</td>\n",
       "      <td>...</td>\n",
       "      <td>...</td>\n",
       "      <td>...</td>\n",
       "      <td>...</td>\n",
       "      <td>...</td>\n",
       "      <td>...</td>\n",
       "      <td>...</td>\n",
       "    </tr>\n",
       "    <tr>\n",
       "      <th>7856</th>\n",
       "      <td>0</td>\n",
       "      <td>0</td>\n",
       "      <td>0</td>\n",
       "      <td>0</td>\n",
       "      <td>-66.237921</td>\n",
       "      <td>38.457041</td>\n",
       "      <td>24.912239</td>\n",
       "      <td>0.094421</td>\n",
       "      <td>-0.552019</td>\n",
       "      <td>0.457598</td>\n",
       "    </tr>\n",
       "    <tr>\n",
       "      <th>7857</th>\n",
       "      <td>0</td>\n",
       "      <td>0</td>\n",
       "      <td>0</td>\n",
       "      <td>0</td>\n",
       "      <td>-65.849493</td>\n",
       "      <td>37.465454</td>\n",
       "      <td>25.515675</td>\n",
       "      <td>0.103778</td>\n",
       "      <td>-0.555186</td>\n",
       "      <td>0.451407</td>\n",
       "    </tr>\n",
       "    <tr>\n",
       "      <th>7858</th>\n",
       "      <td>0</td>\n",
       "      <td>0</td>\n",
       "      <td>0</td>\n",
       "      <td>0</td>\n",
       "      <td>-65.446698</td>\n",
       "      <td>36.472055</td>\n",
       "      <td>26.106554</td>\n",
       "      <td>0.113107</td>\n",
       "      <td>-0.558211</td>\n",
       "      <td>0.445104</td>\n",
       "    </tr>\n",
       "    <tr>\n",
       "      <th>7859</th>\n",
       "      <td>0</td>\n",
       "      <td>0</td>\n",
       "      <td>0</td>\n",
       "      <td>0</td>\n",
       "      <td>-65.029633</td>\n",
       "      <td>35.477088</td>\n",
       "      <td>26.684731</td>\n",
       "      <td>0.122404</td>\n",
       "      <td>-0.561094</td>\n",
       "      <td>0.438690</td>\n",
       "    </tr>\n",
       "    <tr>\n",
       "      <th>7860</th>\n",
       "      <td>0</td>\n",
       "      <td>0</td>\n",
       "      <td>0</td>\n",
       "      <td>0</td>\n",
       "      <td>-64.598401</td>\n",
       "      <td>34.480799</td>\n",
       "      <td>27.250065</td>\n",
       "      <td>0.131669</td>\n",
       "      <td>-0.563835</td>\n",
       "      <td>0.432166</td>\n",
       "    </tr>\n",
       "  </tbody>\n",
       "</table>\n",
       "<p>7861 rows × 10 columns</p>\n",
       "</div>"
      ],
      "text/plain": [
       "      G  C  B  A          Ia          Ib          Ic        Va        Vb  \\\n",
       "0     1  0  0  1 -151.291812   -9.677452   85.800162  0.400750 -0.132935   \n",
       "1     1  0  0  1 -336.186183  -76.283262   18.328897  0.312732 -0.123633   \n",
       "2     1  0  0  1 -502.891583 -174.648023  -80.924663  0.265728 -0.114301   \n",
       "3     1  0  0  1 -593.941905 -217.703359 -124.891924  0.235511 -0.104940   \n",
       "4     1  0  0  1 -643.663617 -224.159427 -132.282815  0.209537 -0.095554   \n",
       "...  .. .. .. ..         ...         ...         ...       ...       ...   \n",
       "7856  0  0  0  0  -66.237921   38.457041   24.912239  0.094421 -0.552019   \n",
       "7857  0  0  0  0  -65.849493   37.465454   25.515675  0.103778 -0.555186   \n",
       "7858  0  0  0  0  -65.446698   36.472055   26.106554  0.113107 -0.558211   \n",
       "7859  0  0  0  0  -65.029633   35.477088   26.684731  0.122404 -0.561094   \n",
       "7860  0  0  0  0  -64.598401   34.480799   27.250065  0.131669 -0.563835   \n",
       "\n",
       "            Vc  \n",
       "0    -0.267815  \n",
       "1    -0.189099  \n",
       "2    -0.151428  \n",
       "3    -0.130570  \n",
       "4    -0.113983  \n",
       "...        ...  \n",
       "7856  0.457598  \n",
       "7857  0.451407  \n",
       "7858  0.445104  \n",
       "7859  0.438690  \n",
       "7860  0.432166  \n",
       "\n",
       "[7861 rows x 10 columns]"
      ]
     },
     "execution_count": 5,
     "metadata": {},
     "output_type": "execute_result"
    }
   ],
   "source": [
    "elec_df"
   ]
  },
  {
   "cell_type": "code",
   "execution_count": 6,
   "id": "a260427d",
   "metadata": {},
   "outputs": [
    {
     "data": {
      "text/plain": [
       "G     0\n",
       "C     0\n",
       "B     0\n",
       "A     0\n",
       "Ia    0\n",
       "Ib    0\n",
       "Ic    0\n",
       "Va    0\n",
       "Vb    0\n",
       "Vc    0\n",
       "dtype: int64"
      ]
     },
     "execution_count": 6,
     "metadata": {},
     "output_type": "execute_result"
    }
   ],
   "source": [
    "elec_df.isnull().sum()"
   ]
  },
  {
   "cell_type": "code",
   "execution_count": 7,
   "id": "903451ee",
   "metadata": {},
   "outputs": [
    {
     "name": "stdout",
     "output_type": "stream",
     "text": [
      "<class 'pandas.core.frame.DataFrame'>\n",
      "RangeIndex: 7861 entries, 0 to 7860\n",
      "Data columns (total 10 columns):\n",
      " #   Column  Non-Null Count  Dtype  \n",
      "---  ------  --------------  -----  \n",
      " 0   G       7861 non-null   int64  \n",
      " 1   C       7861 non-null   int64  \n",
      " 2   B       7861 non-null   int64  \n",
      " 3   A       7861 non-null   int64  \n",
      " 4   Ia      7861 non-null   float64\n",
      " 5   Ib      7861 non-null   float64\n",
      " 6   Ic      7861 non-null   float64\n",
      " 7   Va      7861 non-null   float64\n",
      " 8   Vb      7861 non-null   float64\n",
      " 9   Vc      7861 non-null   float64\n",
      "dtypes: float64(6), int64(4)\n",
      "memory usage: 614.3 KB\n"
     ]
    }
   ],
   "source": [
    "elec_df.info()"
   ]
  },
  {
   "cell_type": "code",
   "execution_count": 8,
   "id": "6a7d42ac",
   "metadata": {},
   "outputs": [
    {
     "data": {
      "text/html": [
       "<div>\n",
       "<style scoped>\n",
       "    .dataframe tbody tr th:only-of-type {\n",
       "        vertical-align: middle;\n",
       "    }\n",
       "\n",
       "    .dataframe tbody tr th {\n",
       "        vertical-align: top;\n",
       "    }\n",
       "\n",
       "    .dataframe thead th {\n",
       "        text-align: right;\n",
       "    }\n",
       "</style>\n",
       "<table border=\"1\" class=\"dataframe\">\n",
       "  <thead>\n",
       "    <tr style=\"text-align: right;\">\n",
       "      <th></th>\n",
       "      <th>G</th>\n",
       "      <th>C</th>\n",
       "      <th>B</th>\n",
       "      <th>A</th>\n",
       "      <th>Ia</th>\n",
       "      <th>Ib</th>\n",
       "      <th>Ic</th>\n",
       "      <th>Va</th>\n",
       "      <th>Vb</th>\n",
       "      <th>Vc</th>\n",
       "    </tr>\n",
       "  </thead>\n",
       "  <tbody>\n",
       "    <tr>\n",
       "      <th>count</th>\n",
       "      <td>7861.000000</td>\n",
       "      <td>7861.000000</td>\n",
       "      <td>7861.000000</td>\n",
       "      <td>7861.000000</td>\n",
       "      <td>7861.000000</td>\n",
       "      <td>7861.000000</td>\n",
       "      <td>7861.000000</td>\n",
       "      <td>7861.000000</td>\n",
       "      <td>7861.000000</td>\n",
       "      <td>7861.000000</td>\n",
       "    </tr>\n",
       "    <tr>\n",
       "      <th>mean</th>\n",
       "      <td>0.432006</td>\n",
       "      <td>0.411271</td>\n",
       "      <td>0.555527</td>\n",
       "      <td>0.571429</td>\n",
       "      <td>13.721194</td>\n",
       "      <td>-44.845268</td>\n",
       "      <td>34.392394</td>\n",
       "      <td>-0.007667</td>\n",
       "      <td>0.001152</td>\n",
       "      <td>0.006515</td>\n",
       "    </tr>\n",
       "    <tr>\n",
       "      <th>std</th>\n",
       "      <td>0.495387</td>\n",
       "      <td>0.492095</td>\n",
       "      <td>0.496939</td>\n",
       "      <td>0.494903</td>\n",
       "      <td>464.741671</td>\n",
       "      <td>439.269195</td>\n",
       "      <td>371.107412</td>\n",
       "      <td>0.289150</td>\n",
       "      <td>0.313437</td>\n",
       "      <td>0.307897</td>\n",
       "    </tr>\n",
       "    <tr>\n",
       "      <th>min</th>\n",
       "      <td>0.000000</td>\n",
       "      <td>0.000000</td>\n",
       "      <td>0.000000</td>\n",
       "      <td>0.000000</td>\n",
       "      <td>-883.542316</td>\n",
       "      <td>-900.526951</td>\n",
       "      <td>-883.357762</td>\n",
       "      <td>-0.620748</td>\n",
       "      <td>-0.608016</td>\n",
       "      <td>-0.612709</td>\n",
       "    </tr>\n",
       "    <tr>\n",
       "      <th>25%</th>\n",
       "      <td>0.000000</td>\n",
       "      <td>0.000000</td>\n",
       "      <td>0.000000</td>\n",
       "      <td>0.000000</td>\n",
       "      <td>-119.802518</td>\n",
       "      <td>-271.845947</td>\n",
       "      <td>-61.034219</td>\n",
       "      <td>-0.130287</td>\n",
       "      <td>-0.159507</td>\n",
       "      <td>-0.215977</td>\n",
       "    </tr>\n",
       "    <tr>\n",
       "      <th>50%</th>\n",
       "      <td>0.000000</td>\n",
       "      <td>0.000000</td>\n",
       "      <td>1.000000</td>\n",
       "      <td>1.000000</td>\n",
       "      <td>2.042805</td>\n",
       "      <td>5.513317</td>\n",
       "      <td>-4.326711</td>\n",
       "      <td>-0.005290</td>\n",
       "      <td>0.001620</td>\n",
       "      <td>0.009281</td>\n",
       "    </tr>\n",
       "    <tr>\n",
       "      <th>75%</th>\n",
       "      <td>1.000000</td>\n",
       "      <td>1.000000</td>\n",
       "      <td>1.000000</td>\n",
       "      <td>1.000000</td>\n",
       "      <td>227.246377</td>\n",
       "      <td>91.194282</td>\n",
       "      <td>49.115141</td>\n",
       "      <td>0.111627</td>\n",
       "      <td>0.153507</td>\n",
       "      <td>0.239973</td>\n",
       "    </tr>\n",
       "    <tr>\n",
       "      <th>max</th>\n",
       "      <td>1.000000</td>\n",
       "      <td>1.000000</td>\n",
       "      <td>1.000000</td>\n",
       "      <td>1.000000</td>\n",
       "      <td>885.738571</td>\n",
       "      <td>889.868884</td>\n",
       "      <td>901.274261</td>\n",
       "      <td>0.595342</td>\n",
       "      <td>0.627875</td>\n",
       "      <td>0.600179</td>\n",
       "    </tr>\n",
       "  </tbody>\n",
       "</table>\n",
       "</div>"
      ],
      "text/plain": [
       "                 G            C            B            A           Ia  \\\n",
       "count  7861.000000  7861.000000  7861.000000  7861.000000  7861.000000   \n",
       "mean      0.432006     0.411271     0.555527     0.571429    13.721194   \n",
       "std       0.495387     0.492095     0.496939     0.494903   464.741671   \n",
       "min       0.000000     0.000000     0.000000     0.000000  -883.542316   \n",
       "25%       0.000000     0.000000     0.000000     0.000000  -119.802518   \n",
       "50%       0.000000     0.000000     1.000000     1.000000     2.042805   \n",
       "75%       1.000000     1.000000     1.000000     1.000000   227.246377   \n",
       "max       1.000000     1.000000     1.000000     1.000000   885.738571   \n",
       "\n",
       "                Ib           Ic           Va           Vb           Vc  \n",
       "count  7861.000000  7861.000000  7861.000000  7861.000000  7861.000000  \n",
       "mean    -44.845268    34.392394    -0.007667     0.001152     0.006515  \n",
       "std     439.269195   371.107412     0.289150     0.313437     0.307897  \n",
       "min    -900.526951  -883.357762    -0.620748    -0.608016    -0.612709  \n",
       "25%    -271.845947   -61.034219    -0.130287    -0.159507    -0.215977  \n",
       "50%       5.513317    -4.326711    -0.005290     0.001620     0.009281  \n",
       "75%      91.194282    49.115141     0.111627     0.153507     0.239973  \n",
       "max     889.868884   901.274261     0.595342     0.627875     0.600179  "
      ]
     },
     "execution_count": 8,
     "metadata": {},
     "output_type": "execute_result"
    }
   ],
   "source": [
    "elec_df.describe()"
   ]
  },
  {
   "cell_type": "code",
   "execution_count": 9,
   "id": "24f6244a",
   "metadata": {},
   "outputs": [
    {
     "data": {
      "text/plain": [
       "Index(['G', 'C', 'B', 'A', 'Ia', 'Ib', 'Ic', 'Va', 'Vb', 'Vc'], dtype='object')"
      ]
     },
     "execution_count": 9,
     "metadata": {},
     "output_type": "execute_result"
    }
   ],
   "source": [
    "elec_df.columns"
   ]
  },
  {
   "cell_type": "code",
   "execution_count": 10,
   "id": "533553ed",
   "metadata": {},
   "outputs": [
    {
     "data": {
      "image/png": "[encoded data removed]",
      "text/plain": [
       "<Figure size 432x288 with 1 Axes>"
      ]
     },
     "metadata": {
      "needs_background": "light"
     },
     "output_type": "display_data"
    },
    {
     "data": {
      "image/png": "[encoded data removed]",
      "text/plain": [
       "<Figure size 432x288 with 1 Axes>"
      ]
     },
     "metadata": {
      "needs_background": "light"
     },
     "output_type": "display_data"
    },
    {
     "data": {
      "image/png": "[encoded data removed]",
      "text/plain": [
       "<Figure size 432x288 with 1 Axes>"
      ]
     },
     "metadata": {
      "needs_background": "light"
     },
     "output_type": "display_data"
    },
    {
     "data": {
      "image/png": "[encoded data removed]",
      "text/plain": [
       "<Figure size 432x288 with 1 Axes>"
      ]
     },
     "metadata": {
      "needs_background": "light"
     },
     "output_type": "display_data"
    },
    {
     "data": {
      "image/png": "[encoded data removed]",
      "text/plain": [
       "<Figure size 432x288 with 1 Axes>"
      ]
     },
     "metadata": {
      "needs_background": "light"
     },
     "output_type": "display_data"
    },
    {
     "data": {
      "image/png": "[encoded data removed]",
      "text/plain": [
       "<Figure size 432x288 with 1 Axes>"
      ]
     },
     "metadata": {
      "needs_background": "light"
     },
     "output_type": "display_data"
    }
   ],
   "source": [
    "col_list = ['Ia', 'Ib', 'Ic', 'Va', 'Vb', 'Vc']\n",
    "for i in col_list:\n",
    "    plt.plot(i, data = elec_df, )\n",
    "    plt.title(i)\n",
    "    plt.show()"
   ]
  },
  {
   "cell_type": "code",
   "execution_count": 11,
   "id": "879fdcdf",
   "metadata": {},
   "outputs": [
    {
     "data": {
      "text/html": [
       "<div>\n",
       "<style scoped>\n",
       "    .dataframe tbody tr th:only-of-type {\n",
       "        vertical-align: middle;\n",
       "    }\n",
       "\n",
       "    .dataframe tbody tr th {\n",
       "        vertical-align: top;\n",
       "    }\n",
       "\n",
       "    .dataframe thead th {\n",
       "        text-align: right;\n",
       "    }\n",
       "</style>\n",
       "<table border=\"1\" class=\"dataframe\">\n",
       "  <thead>\n",
       "    <tr style=\"text-align: right;\">\n",
       "      <th></th>\n",
       "      <th>Ia</th>\n",
       "      <th>Ib</th>\n",
       "      <th>Ic</th>\n",
       "      <th>Va</th>\n",
       "      <th>Vb</th>\n",
       "      <th>Vc</th>\n",
       "    </tr>\n",
       "  </thead>\n",
       "  <tbody>\n",
       "    <tr>\n",
       "      <th>Ia</th>\n",
       "      <td>1.000000</td>\n",
       "      <td>-0.374241</td>\n",
       "      <td>-0.276457</td>\n",
       "      <td>0.035682</td>\n",
       "      <td>-0.274612</td>\n",
       "      <td>0.246043</td>\n",
       "    </tr>\n",
       "    <tr>\n",
       "      <th>Ib</th>\n",
       "      <td>-0.374241</td>\n",
       "      <td>1.000000</td>\n",
       "      <td>-0.528291</td>\n",
       "      <td>0.029118</td>\n",
       "      <td>0.032101</td>\n",
       "      <td>-0.060023</td>\n",
       "    </tr>\n",
       "    <tr>\n",
       "      <th>Ic</th>\n",
       "      <td>-0.276457</td>\n",
       "      <td>-0.528291</td>\n",
       "      <td>1.000000</td>\n",
       "      <td>-0.069137</td>\n",
       "      <td>-0.056967</td>\n",
       "      <td>0.122919</td>\n",
       "    </tr>\n",
       "    <tr>\n",
       "      <th>Va</th>\n",
       "      <td>0.035682</td>\n",
       "      <td>0.029118</td>\n",
       "      <td>-0.069137</td>\n",
       "      <td>1.000000</td>\n",
       "      <td>-0.480247</td>\n",
       "      <td>-0.450225</td>\n",
       "    </tr>\n",
       "    <tr>\n",
       "      <th>Vb</th>\n",
       "      <td>-0.274612</td>\n",
       "      <td>0.032101</td>\n",
       "      <td>-0.056967</td>\n",
       "      <td>-0.480247</td>\n",
       "      <td>1.000000</td>\n",
       "      <td>-0.566986</td>\n",
       "    </tr>\n",
       "    <tr>\n",
       "      <th>Vc</th>\n",
       "      <td>0.246043</td>\n",
       "      <td>-0.060023</td>\n",
       "      <td>0.122919</td>\n",
       "      <td>-0.450225</td>\n",
       "      <td>-0.566986</td>\n",
       "      <td>1.000000</td>\n",
       "    </tr>\n",
       "  </tbody>\n",
       "</table>\n",
       "</div>"
      ],
      "text/plain": [
       "          Ia        Ib        Ic        Va        Vb        Vc\n",
       "Ia  1.000000 -0.374241 -0.276457  0.035682 -0.274612  0.246043\n",
       "Ib -0.374241  1.000000 -0.528291  0.029118  0.032101 -0.060023\n",
       "Ic -0.276457 -0.528291  1.000000 -0.069137 -0.056967  0.122919\n",
       "Va  0.035682  0.029118 -0.069137  1.000000 -0.480247 -0.450225\n",
       "Vb -0.274612  0.032101 -0.056967 -0.480247  1.000000 -0.566986\n",
       "Vc  0.246043 -0.060023  0.122919 -0.450225 -0.566986  1.000000"
      ]
     },
     "execution_count": 11,
     "metadata": {},
     "output_type": "execute_result"
    }
   ],
   "source": [
    "cor_mat = elec_df[col_list].corr()\n",
    "cor_mat"
   ]
  },
  {
   "cell_type": "code",
   "execution_count": 12,
   "id": "f0384e7e",
   "metadata": {},
   "outputs": [
    {
     "data": {
      "text/plain": [
       "<AxesSubplot:>"
      ]
     },
     "execution_count": 12,
     "metadata": {},
     "output_type": "execute_result"
    },
    {
     "data": {
      "image/png": "[encoded data removed]",
      "text/plain": [
       "<Figure size 720x576 with 2 Axes>"
      ]
     },
     "metadata": {
      "needs_background": "light"
     },
     "output_type": "display_data"
    }
   ],
   "source": [
    "plt.figure(figsize = (10,8))\n",
    "sns.heatmap(cor_mat,annot=True)"
   ]
  },
  {
   "cell_type": "code",
   "execution_count": 13,
   "id": "301fa576",
   "metadata": {},
   "outputs": [],
   "source": [
    "# Splitting to independent to target\n",
    "y = elec_df.drop(col_list, axis = 1)\n",
    "x = elec_df[col_list] "
   ]
  },
  {
   "cell_type": "code",
   "execution_count": 14,
   "id": "6e002aed",
   "metadata": {},
   "outputs": [
    {
     "data": {
      "text/html": [
       "<div>\n",
       "<style scoped>\n",
       "    .dataframe tbody tr th:only-of-type {\n",
       "        vertical-align: middle;\n",
       "    }\n",
       "\n",
       "    .dataframe tbody tr th {\n",
       "        vertical-align: top;\n",
       "    }\n",
       "\n",
       "    .dataframe thead th {\n",
       "        text-align: right;\n",
       "    }\n",
       "</style>\n",
       "<table border=\"1\" class=\"dataframe\">\n",
       "  <thead>\n",
       "    <tr style=\"text-align: right;\">\n",
       "      <th></th>\n",
       "      <th>Ia</th>\n",
       "      <th>Ib</th>\n",
       "      <th>Ic</th>\n",
       "      <th>Va</th>\n",
       "      <th>Vb</th>\n",
       "      <th>Vc</th>\n",
       "    </tr>\n",
       "  </thead>\n",
       "  <tbody>\n",
       "    <tr>\n",
       "      <th>0</th>\n",
       "      <td>-151.291812</td>\n",
       "      <td>-9.677452</td>\n",
       "      <td>85.800162</td>\n",
       "      <td>0.400750</td>\n",
       "      <td>-0.132935</td>\n",
       "      <td>-0.267815</td>\n",
       "    </tr>\n",
       "    <tr>\n",
       "      <th>1</th>\n",
       "      <td>-336.186183</td>\n",
       "      <td>-76.283262</td>\n",
       "      <td>18.328897</td>\n",
       "      <td>0.312732</td>\n",
       "      <td>-0.123633</td>\n",
       "      <td>-0.189099</td>\n",
       "    </tr>\n",
       "    <tr>\n",
       "      <th>2</th>\n",
       "      <td>-502.891583</td>\n",
       "      <td>-174.648023</td>\n",
       "      <td>-80.924663</td>\n",
       "      <td>0.265728</td>\n",
       "      <td>-0.114301</td>\n",
       "      <td>-0.151428</td>\n",
       "    </tr>\n",
       "    <tr>\n",
       "      <th>3</th>\n",
       "      <td>-593.941905</td>\n",
       "      <td>-217.703359</td>\n",
       "      <td>-124.891924</td>\n",
       "      <td>0.235511</td>\n",
       "      <td>-0.104940</td>\n",
       "      <td>-0.130570</td>\n",
       "    </tr>\n",
       "    <tr>\n",
       "      <th>4</th>\n",
       "      <td>-643.663617</td>\n",
       "      <td>-224.159427</td>\n",
       "      <td>-132.282815</td>\n",
       "      <td>0.209537</td>\n",
       "      <td>-0.095554</td>\n",
       "      <td>-0.113983</td>\n",
       "    </tr>\n",
       "    <tr>\n",
       "      <th>...</th>\n",
       "      <td>...</td>\n",
       "      <td>...</td>\n",
       "      <td>...</td>\n",
       "      <td>...</td>\n",
       "      <td>...</td>\n",
       "      <td>...</td>\n",
       "    </tr>\n",
       "    <tr>\n",
       "      <th>7856</th>\n",
       "      <td>-66.237921</td>\n",
       "      <td>38.457041</td>\n",
       "      <td>24.912239</td>\n",
       "      <td>0.094421</td>\n",
       "      <td>-0.552019</td>\n",
       "      <td>0.457598</td>\n",
       "    </tr>\n",
       "    <tr>\n",
       "      <th>7857</th>\n",
       "      <td>-65.849493</td>\n",
       "      <td>37.465454</td>\n",
       "      <td>25.515675</td>\n",
       "      <td>0.103778</td>\n",
       "      <td>-0.555186</td>\n",
       "      <td>0.451407</td>\n",
       "    </tr>\n",
       "    <tr>\n",
       "      <th>7858</th>\n",
       "      <td>-65.446698</td>\n",
       "      <td>36.472055</td>\n",
       "      <td>26.106554</td>\n",
       "      <td>0.113107</td>\n",
       "      <td>-0.558211</td>\n",
       "      <td>0.445104</td>\n",
       "    </tr>\n",
       "    <tr>\n",
       "      <th>7859</th>\n",
       "      <td>-65.029633</td>\n",
       "      <td>35.477088</td>\n",
       "      <td>26.684731</td>\n",
       "      <td>0.122404</td>\n",
       "      <td>-0.561094</td>\n",
       "      <td>0.438690</td>\n",
       "    </tr>\n",
       "    <tr>\n",
       "      <th>7860</th>\n",
       "      <td>-64.598401</td>\n",
       "      <td>34.480799</td>\n",
       "      <td>27.250065</td>\n",
       "      <td>0.131669</td>\n",
       "      <td>-0.563835</td>\n",
       "      <td>0.432166</td>\n",
       "    </tr>\n",
       "  </tbody>\n",
       "</table>\n",
       "<p>7861 rows × 6 columns</p>\n",
       "</div>"
      ],
      "text/plain": [
       "              Ia          Ib          Ic        Va        Vb        Vc\n",
       "0    -151.291812   -9.677452   85.800162  0.400750 -0.132935 -0.267815\n",
       "1    -336.186183  -76.283262   18.328897  0.312732 -0.123633 -0.189099\n",
       "2    -502.891583 -174.648023  -80.924663  0.265728 -0.114301 -0.151428\n",
       "3    -593.941905 -217.703359 -124.891924  0.235511 -0.104940 -0.130570\n",
       "4    -643.663617 -224.159427 -132.282815  0.209537 -0.095554 -0.113983\n",
       "...          ...         ...         ...       ...       ...       ...\n",
       "7856  -66.237921   38.457041   24.912239  0.094421 -0.552019  0.457598\n",
       "7857  -65.849493   37.465454   25.515675  0.103778 -0.555186  0.451407\n",
       "7858  -65.446698   36.472055   26.106554  0.113107 -0.558211  0.445104\n",
       "7859  -65.029633   35.477088   26.684731  0.122404 -0.561094  0.438690\n",
       "7860  -64.598401   34.480799   27.250065  0.131669 -0.563835  0.432166\n",
       "\n",
       "[7861 rows x 6 columns]"
      ]
     },
     "execution_count": 14,
     "metadata": {},
     "output_type": "execute_result"
    }
   ],
   "source": [
    "x"
   ]
  },
  {
   "cell_type": "code",
   "execution_count": 15,
   "id": "0ba84950",
   "metadata": {},
   "outputs": [
    {
     "data": {
      "text/plain": [
       "[0, 0, 0, 0]"
      ]
     },
     "execution_count": 15,
     "metadata": {},
     "output_type": "execute_result"
    }
   ],
   "source": [
    "for i in range(len(y)):\n",
    "    y_int = y[:i].values\n",
    "\n",
    "list(y_int[7859])"
   ]
  },
  {
   "cell_type": "code",
   "execution_count": 16,
   "id": "b522a701",
   "metadata": {},
   "outputs": [],
   "source": [
    "# [0 0 0 0] - No Fault\n",
    "# [1 0 0 1] - LG fault (Between Phase A and Gnd)\n",
    "# [0 0 1 1] - LL fault (Between Phase A and Phase B)\n",
    "# [1 0 1 1] - LLG Fault (Between Phases A,B and ground)\n",
    "# [0 1 1 1] - LLL Fault(Between all three phases)\n",
    "# [1 1 1 1] - LLLG fault( Three phase symmetrical fault)\n",
    "\n",
    "dic = {'NoFault':[0, 0, 0, 0], 'LG':[1, 0, 0, 1], 'LL':[0, 0, 1, 1], 'LL':[0, 1, 1, 0], 'LLG':[1, 0, 1, 1], 'LLL':[0, 1, 1, 1], 'LLLG':[1, 1, 1, 1]}\n",
    "\n",
    "# fault = list(y[:1].values[0])\n",
    "\n",
    "key_list = list(dic.keys())\n",
    "values_list = list(dic.values())\n",
    "fault_type = []\n",
    "for i in range(len(y)-1):\n",
    "    position = values_list.index(list(y_int[i]))\n",
    "    fault_type.append(key_list[position])\n",
    "#     elec_df['Fault'] = key_list[position]\n",
    "# print(fault_type)\n",
    "elec_df['Fault_Type'] = pd.DataFrame(fault_type)\n",
    "# elec_df['Fault_Type'] = pd.DataFrame(fault_type)"
   ]
  },
  {
   "cell_type": "code",
   "execution_count": 17,
   "id": "61d7bcad",
   "metadata": {},
   "outputs": [
    {
     "data": {
      "text/plain": [
       "NoFault    2364\n",
       "LLG        1134\n",
       "LLLG       1133\n",
       "LG         1129\n",
       "LLL        1096\n",
       "LL         1004\n",
       "Name: Fault_Type, dtype: int64"
      ]
     },
     "execution_count": 17,
     "metadata": {},
     "output_type": "execute_result"
    }
   ],
   "source": [
    "elec_df['Fault_Type'].value_counts()"
   ]
  },
  {
   "cell_type": "code",
   "execution_count": 18,
   "id": "2c6e91eb",
   "metadata": {},
   "outputs": [
    {
     "data": {
      "text/plain": [
       "array(['LG', 'LLG', 'LL', 'LLL', 'LLLG', 'NoFault', nan], dtype=object)"
      ]
     },
     "execution_count": 18,
     "metadata": {},
     "output_type": "execute_result"
    }
   ],
   "source": [
    "elec_df['Fault_Type'].unique()"
   ]
  },
  {
   "cell_type": "code",
   "execution_count": 19,
   "id": "fc563351",
   "metadata": {
    "scrolled": true
   },
   "outputs": [
    {
     "data": {
      "text/html": [
       "<div>\n",
       "<style scoped>\n",
       "    .dataframe tbody tr th:only-of-type {\n",
       "        vertical-align: middle;\n",
       "    }\n",
       "\n",
       "    .dataframe tbody tr th {\n",
       "        vertical-align: top;\n",
       "    }\n",
       "\n",
       "    .dataframe thead th {\n",
       "        text-align: right;\n",
       "    }\n",
       "</style>\n",
       "<table border=\"1\" class=\"dataframe\">\n",
       "  <thead>\n",
       "    <tr style=\"text-align: right;\">\n",
       "      <th></th>\n",
       "      <th>G</th>\n",
       "      <th>C</th>\n",
       "      <th>B</th>\n",
       "      <th>A</th>\n",
       "      <th>Ia</th>\n",
       "      <th>Ib</th>\n",
       "      <th>Ic</th>\n",
       "      <th>Va</th>\n",
       "      <th>Vb</th>\n",
       "      <th>Vc</th>\n",
       "      <th>Fault_Type</th>\n",
       "    </tr>\n",
       "  </thead>\n",
       "  <tbody>\n",
       "    <tr>\n",
       "      <th>0</th>\n",
       "      <td>1</td>\n",
       "      <td>0</td>\n",
       "      <td>0</td>\n",
       "      <td>1</td>\n",
       "      <td>-151.291812</td>\n",
       "      <td>-9.677452</td>\n",
       "      <td>85.800162</td>\n",
       "      <td>0.400750</td>\n",
       "      <td>-0.132935</td>\n",
       "      <td>-0.267815</td>\n",
       "      <td>LG</td>\n",
       "    </tr>\n",
       "    <tr>\n",
       "      <th>1</th>\n",
       "      <td>1</td>\n",
       "      <td>0</td>\n",
       "      <td>0</td>\n",
       "      <td>1</td>\n",
       "      <td>-336.186183</td>\n",
       "      <td>-76.283262</td>\n",
       "      <td>18.328897</td>\n",
       "      <td>0.312732</td>\n",
       "      <td>-0.123633</td>\n",
       "      <td>-0.189099</td>\n",
       "      <td>LG</td>\n",
       "    </tr>\n",
       "    <tr>\n",
       "      <th>2</th>\n",
       "      <td>1</td>\n",
       "      <td>0</td>\n",
       "      <td>0</td>\n",
       "      <td>1</td>\n",
       "      <td>-502.891583</td>\n",
       "      <td>-174.648023</td>\n",
       "      <td>-80.924663</td>\n",
       "      <td>0.265728</td>\n",
       "      <td>-0.114301</td>\n",
       "      <td>-0.151428</td>\n",
       "      <td>LG</td>\n",
       "    </tr>\n",
       "    <tr>\n",
       "      <th>3</th>\n",
       "      <td>1</td>\n",
       "      <td>0</td>\n",
       "      <td>0</td>\n",
       "      <td>1</td>\n",
       "      <td>-593.941905</td>\n",
       "      <td>-217.703359</td>\n",
       "      <td>-124.891924</td>\n",
       "      <td>0.235511</td>\n",
       "      <td>-0.104940</td>\n",
       "      <td>-0.130570</td>\n",
       "      <td>LG</td>\n",
       "    </tr>\n",
       "    <tr>\n",
       "      <th>4</th>\n",
       "      <td>1</td>\n",
       "      <td>0</td>\n",
       "      <td>0</td>\n",
       "      <td>1</td>\n",
       "      <td>-643.663617</td>\n",
       "      <td>-224.159427</td>\n",
       "      <td>-132.282815</td>\n",
       "      <td>0.209537</td>\n",
       "      <td>-0.095554</td>\n",
       "      <td>-0.113983</td>\n",
       "      <td>LG</td>\n",
       "    </tr>\n",
       "    <tr>\n",
       "      <th>...</th>\n",
       "      <td>...</td>\n",
       "      <td>...</td>\n",
       "      <td>...</td>\n",
       "      <td>...</td>\n",
       "      <td>...</td>\n",
       "      <td>...</td>\n",
       "      <td>...</td>\n",
       "      <td>...</td>\n",
       "      <td>...</td>\n",
       "      <td>...</td>\n",
       "      <td>...</td>\n",
       "    </tr>\n",
       "    <tr>\n",
       "      <th>7856</th>\n",
       "      <td>0</td>\n",
       "      <td>0</td>\n",
       "      <td>0</td>\n",
       "      <td>0</td>\n",
       "      <td>-66.237921</td>\n",
       "      <td>38.457041</td>\n",
       "      <td>24.912239</td>\n",
       "      <td>0.094421</td>\n",
       "      <td>-0.552019</td>\n",
       "      <td>0.457598</td>\n",
       "      <td>NoFault</td>\n",
       "    </tr>\n",
       "    <tr>\n",
       "      <th>7857</th>\n",
       "      <td>0</td>\n",
       "      <td>0</td>\n",
       "      <td>0</td>\n",
       "      <td>0</td>\n",
       "      <td>-65.849493</td>\n",
       "      <td>37.465454</td>\n",
       "      <td>25.515675</td>\n",
       "      <td>0.103778</td>\n",
       "      <td>-0.555186</td>\n",
       "      <td>0.451407</td>\n",
       "      <td>NoFault</td>\n",
       "    </tr>\n",
       "    <tr>\n",
       "      <th>7858</th>\n",
       "      <td>0</td>\n",
       "      <td>0</td>\n",
       "      <td>0</td>\n",
       "      <td>0</td>\n",
       "      <td>-65.446698</td>\n",
       "      <td>36.472055</td>\n",
       "      <td>26.106554</td>\n",
       "      <td>0.113107</td>\n",
       "      <td>-0.558211</td>\n",
       "      <td>0.445104</td>\n",
       "      <td>NoFault</td>\n",
       "    </tr>\n",
       "    <tr>\n",
       "      <th>7859</th>\n",
       "      <td>0</td>\n",
       "      <td>0</td>\n",
       "      <td>0</td>\n",
       "      <td>0</td>\n",
       "      <td>-65.029633</td>\n",
       "      <td>35.477088</td>\n",
       "      <td>26.684731</td>\n",
       "      <td>0.122404</td>\n",
       "      <td>-0.561094</td>\n",
       "      <td>0.438690</td>\n",
       "      <td>NoFault</td>\n",
       "    </tr>\n",
       "    <tr>\n",
       "      <th>7860</th>\n",
       "      <td>0</td>\n",
       "      <td>0</td>\n",
       "      <td>0</td>\n",
       "      <td>0</td>\n",
       "      <td>-64.598401</td>\n",
       "      <td>34.480799</td>\n",
       "      <td>27.250065</td>\n",
       "      <td>0.131669</td>\n",
       "      <td>-0.563835</td>\n",
       "      <td>0.432166</td>\n",
       "      <td>NoFault</td>\n",
       "    </tr>\n",
       "  </tbody>\n",
       "</table>\n",
       "<p>7861 rows × 11 columns</p>\n",
       "</div>"
      ],
      "text/plain": [
       "      G  C  B  A          Ia          Ib          Ic        Va        Vb  \\\n",
       "0     1  0  0  1 -151.291812   -9.677452   85.800162  0.400750 -0.132935   \n",
       "1     1  0  0  1 -336.186183  -76.283262   18.328897  0.312732 -0.123633   \n",
       "2     1  0  0  1 -502.891583 -174.648023  -80.924663  0.265728 -0.114301   \n",
       "3     1  0  0  1 -593.941905 -217.703359 -124.891924  0.235511 -0.104940   \n",
       "4     1  0  0  1 -643.663617 -224.159427 -132.282815  0.209537 -0.095554   \n",
       "...  .. .. .. ..         ...         ...         ...       ...       ...   \n",
       "7856  0  0  0  0  -66.237921   38.457041   24.912239  0.094421 -0.552019   \n",
       "7857  0  0  0  0  -65.849493   37.465454   25.515675  0.103778 -0.555186   \n",
       "7858  0  0  0  0  -65.446698   36.472055   26.106554  0.113107 -0.558211   \n",
       "7859  0  0  0  0  -65.029633   35.477088   26.684731  0.122404 -0.561094   \n",
       "7860  0  0  0  0  -64.598401   34.480799   27.250065  0.131669 -0.563835   \n",
       "\n",
       "            Vc Fault_Type  \n",
       "0    -0.267815         LG  \n",
       "1    -0.189099         LG  \n",
       "2    -0.151428         LG  \n",
       "3    -0.130570         LG  \n",
       "4    -0.113983         LG  \n",
       "...        ...        ...  \n",
       "7856  0.457598    NoFault  \n",
       "7857  0.451407    NoFault  \n",
       "7858  0.445104    NoFault  \n",
       "7859  0.438690    NoFault  \n",
       "7860  0.432166    NoFault  \n",
       "\n",
       "[7861 rows x 11 columns]"
      ]
     },
     "execution_count": 19,
     "metadata": {},
     "output_type": "execute_result"
    }
   ],
   "source": [
    "elec_df.Fault_Type.fillna('NoFault', inplace = True)\n",
    "elec_df"
   ]
  },
  {
   "cell_type": "code",
   "execution_count": 20,
   "id": "70b51898",
   "metadata": {},
   "outputs": [],
   "source": [
    "x_fin = elec_df.iloc[:, 4:10]\n",
    "y_fin = elec_df.iloc[:, -1:]"
   ]
  },
  {
   "cell_type": "code",
   "execution_count": 21,
   "id": "60a90b81",
   "metadata": {},
   "outputs": [
    {
     "data": {
      "text/html": [
       "<div>\n",
       "<style scoped>\n",
       "    .dataframe tbody tr th:only-of-type {\n",
       "        vertical-align: middle;\n",
       "    }\n",
       "\n",
       "    .dataframe tbody tr th {\n",
       "        vertical-align: top;\n",
       "    }\n",
       "\n",
       "    .dataframe thead th {\n",
       "        text-align: right;\n",
       "    }\n",
       "</style>\n",
       "<table border=\"1\" class=\"dataframe\">\n",
       "  <thead>\n",
       "    <tr style=\"text-align: right;\">\n",
       "      <th></th>\n",
       "      <th>Ia</th>\n",
       "      <th>Ib</th>\n",
       "      <th>Ic</th>\n",
       "      <th>Va</th>\n",
       "      <th>Vb</th>\n",
       "      <th>Vc</th>\n",
       "    </tr>\n",
       "  </thead>\n",
       "  <tbody>\n",
       "    <tr>\n",
       "      <th>0</th>\n",
       "      <td>-151.291812</td>\n",
       "      <td>-9.677452</td>\n",
       "      <td>85.800162</td>\n",
       "      <td>0.400750</td>\n",
       "      <td>-0.132935</td>\n",
       "      <td>-0.267815</td>\n",
       "    </tr>\n",
       "    <tr>\n",
       "      <th>1</th>\n",
       "      <td>-336.186183</td>\n",
       "      <td>-76.283262</td>\n",
       "      <td>18.328897</td>\n",
       "      <td>0.312732</td>\n",
       "      <td>-0.123633</td>\n",
       "      <td>-0.189099</td>\n",
       "    </tr>\n",
       "    <tr>\n",
       "      <th>2</th>\n",
       "      <td>-502.891583</td>\n",
       "      <td>-174.648023</td>\n",
       "      <td>-80.924663</td>\n",
       "      <td>0.265728</td>\n",
       "      <td>-0.114301</td>\n",
       "      <td>-0.151428</td>\n",
       "    </tr>\n",
       "    <tr>\n",
       "      <th>3</th>\n",
       "      <td>-593.941905</td>\n",
       "      <td>-217.703359</td>\n",
       "      <td>-124.891924</td>\n",
       "      <td>0.235511</td>\n",
       "      <td>-0.104940</td>\n",
       "      <td>-0.130570</td>\n",
       "    </tr>\n",
       "    <tr>\n",
       "      <th>4</th>\n",
       "      <td>-643.663617</td>\n",
       "      <td>-224.159427</td>\n",
       "      <td>-132.282815</td>\n",
       "      <td>0.209537</td>\n",
       "      <td>-0.095554</td>\n",
       "      <td>-0.113983</td>\n",
       "    </tr>\n",
       "    <tr>\n",
       "      <th>...</th>\n",
       "      <td>...</td>\n",
       "      <td>...</td>\n",
       "      <td>...</td>\n",
       "      <td>...</td>\n",
       "      <td>...</td>\n",
       "      <td>...</td>\n",
       "    </tr>\n",
       "    <tr>\n",
       "      <th>7856</th>\n",
       "      <td>-66.237921</td>\n",
       "      <td>38.457041</td>\n",
       "      <td>24.912239</td>\n",
       "      <td>0.094421</td>\n",
       "      <td>-0.552019</td>\n",
       "      <td>0.457598</td>\n",
       "    </tr>\n",
       "    <tr>\n",
       "      <th>7857</th>\n",
       "      <td>-65.849493</td>\n",
       "      <td>37.465454</td>\n",
       "      <td>25.515675</td>\n",
       "      <td>0.103778</td>\n",
       "      <td>-0.555186</td>\n",
       "      <td>0.451407</td>\n",
       "    </tr>\n",
       "    <tr>\n",
       "      <th>7858</th>\n",
       "      <td>-65.446698</td>\n",
       "      <td>36.472055</td>\n",
       "      <td>26.106554</td>\n",
       "      <td>0.113107</td>\n",
       "      <td>-0.558211</td>\n",
       "      <td>0.445104</td>\n",
       "    </tr>\n",
       "    <tr>\n",
       "      <th>7859</th>\n",
       "      <td>-65.029633</td>\n",
       "      <td>35.477088</td>\n",
       "      <td>26.684731</td>\n",
       "      <td>0.122404</td>\n",
       "      <td>-0.561094</td>\n",
       "      <td>0.438690</td>\n",
       "    </tr>\n",
       "    <tr>\n",
       "      <th>7860</th>\n",
       "      <td>-64.598401</td>\n",
       "      <td>34.480799</td>\n",
       "      <td>27.250065</td>\n",
       "      <td>0.131669</td>\n",
       "      <td>-0.563835</td>\n",
       "      <td>0.432166</td>\n",
       "    </tr>\n",
       "  </tbody>\n",
       "</table>\n",
       "<p>7861 rows × 6 columns</p>\n",
       "</div>"
      ],
      "text/plain": [
       "              Ia          Ib          Ic        Va        Vb        Vc\n",
       "0    -151.291812   -9.677452   85.800162  0.400750 -0.132935 -0.267815\n",
       "1    -336.186183  -76.283262   18.328897  0.312732 -0.123633 -0.189099\n",
       "2    -502.891583 -174.648023  -80.924663  0.265728 -0.114301 -0.151428\n",
       "3    -593.941905 -217.703359 -124.891924  0.235511 -0.104940 -0.130570\n",
       "4    -643.663617 -224.159427 -132.282815  0.209537 -0.095554 -0.113983\n",
       "...          ...         ...         ...       ...       ...       ...\n",
       "7856  -66.237921   38.457041   24.912239  0.094421 -0.552019  0.457598\n",
       "7857  -65.849493   37.465454   25.515675  0.103778 -0.555186  0.451407\n",
       "7858  -65.446698   36.472055   26.106554  0.113107 -0.558211  0.445104\n",
       "7859  -65.029633   35.477088   26.684731  0.122404 -0.561094  0.438690\n",
       "7860  -64.598401   34.480799   27.250065  0.131669 -0.563835  0.432166\n",
       "\n",
       "[7861 rows x 6 columns]"
      ]
     },
     "execution_count": 21,
     "metadata": {},
     "output_type": "execute_result"
    }
   ],
   "source": [
    "x_fin"
   ]
  },
  {
   "cell_type": "code",
   "execution_count": 22,
   "id": "b95e14e8",
   "metadata": {
    "scrolled": true
   },
   "outputs": [
    {
     "data": {
      "text/html": [
       "<div>\n",
       "<style scoped>\n",
       "    .dataframe tbody tr th:only-of-type {\n",
       "        vertical-align: middle;\n",
       "    }\n",
       "\n",
       "    .dataframe tbody tr th {\n",
       "        vertical-align: top;\n",
       "    }\n",
       "\n",
       "    .dataframe thead th {\n",
       "        text-align: right;\n",
       "    }\n",
       "</style>\n",
       "<table border=\"1\" class=\"dataframe\">\n",
       "  <thead>\n",
       "    <tr style=\"text-align: right;\">\n",
       "      <th></th>\n",
       "      <th>Fault_Type</th>\n",
       "    </tr>\n",
       "  </thead>\n",
       "  <tbody>\n",
       "    <tr>\n",
       "      <th>0</th>\n",
       "      <td>LG</td>\n",
       "    </tr>\n",
       "    <tr>\n",
       "      <th>1</th>\n",
       "      <td>LG</td>\n",
       "    </tr>\n",
       "    <tr>\n",
       "      <th>2</th>\n",
       "      <td>LG</td>\n",
       "    </tr>\n",
       "    <tr>\n",
       "      <th>3</th>\n",
       "      <td>LG</td>\n",
       "    </tr>\n",
       "    <tr>\n",
       "      <th>4</th>\n",
       "      <td>LG</td>\n",
       "    </tr>\n",
       "    <tr>\n",
       "      <th>...</th>\n",
       "      <td>...</td>\n",
       "    </tr>\n",
       "    <tr>\n",
       "      <th>7856</th>\n",
       "      <td>NoFault</td>\n",
       "    </tr>\n",
       "    <tr>\n",
       "      <th>7857</th>\n",
       "      <td>NoFault</td>\n",
       "    </tr>\n",
       "    <tr>\n",
       "      <th>7858</th>\n",
       "      <td>NoFault</td>\n",
       "    </tr>\n",
       "    <tr>\n",
       "      <th>7859</th>\n",
       "      <td>NoFault</td>\n",
       "    </tr>\n",
       "    <tr>\n",
       "      <th>7860</th>\n",
       "      <td>NoFault</td>\n",
       "    </tr>\n",
       "  </tbody>\n",
       "</table>\n",
       "<p>7861 rows × 1 columns</p>\n",
       "</div>"
      ],
      "text/plain": [
       "     Fault_Type\n",
       "0            LG\n",
       "1            LG\n",
       "2            LG\n",
       "3            LG\n",
       "4            LG\n",
       "...         ...\n",
       "7856    NoFault\n",
       "7857    NoFault\n",
       "7858    NoFault\n",
       "7859    NoFault\n",
       "7860    NoFault\n",
       "\n",
       "[7861 rows x 1 columns]"
      ]
     },
     "execution_count": 22,
     "metadata": {},
     "output_type": "execute_result"
    }
   ],
   "source": [
    "y_fin"
   ]
  },
  {
   "cell_type": "code",
   "execution_count": 23,
   "id": "c472f8fd",
   "metadata": {},
   "outputs": [],
   "source": [
    "# train_test_split\n",
    "from sklearn.model_selection import train_test_split, GridSearchCV\n",
    "x_train, x_test, y_train, y_test = train_test_split(x_fin, y_fin, test_size = 0.2, random_state = 101)"
   ]
  },
  {
   "cell_type": "code",
   "execution_count": 24,
   "id": "a1de7cb7",
   "metadata": {},
   "outputs": [
    {
     "data": {
      "text/plain": [
       "((6288, 6), (1573, 6), (6288, 1), (1573, 1))"
      ]
     },
     "execution_count": 24,
     "metadata": {},
     "output_type": "execute_result"
    }
   ],
   "source": [
    "x_train.shape, x_test.shape, y_train.shape, y_test.shape"
   ]
  },
  {
   "cell_type": "markdown",
   "id": "7fbcd9ea",
   "metadata": {},
   "source": [
    "# Standardization"
   ]
  },
  {
   "cell_type": "code",
   "execution_count": 127,
   "id": "ae3b660a",
   "metadata": {},
   "outputs": [],
   "source": [
    "from sklearn.preprocessing import StandardScaler\n",
    "sc = StandardScaler()\n",
    "X_train = sc.fit_transform(X_train)\n",
    "X_test = sc.fit_transform(X_test)"
   ]
  },
  {
   "cell_type": "markdown",
   "id": "0858290a",
   "metadata": {},
   "source": [
    "# Model Building"
   ]
  },
  {
   "cell_type": "code",
   "execution_count": 128,
   "id": "e3ea2969",
   "metadata": {},
   "outputs": [],
   "source": [
    "# Model Building\n",
    "from sklearn.tree import DecisionTreeClassifier\n",
    "from sklearn.ensemble import RandomForestClassifier\n",
    "from sklearn.svm import SVC\n",
    "from sklearn.linear_model import LogisticRegression\n",
    "from sklearn.neighbors import KNeighborsClassifier\n",
    "from sklearn.naive_bayes import GaussianNB"
   ]
  },
  {
   "cell_type": "code",
   "execution_count": 129,
   "id": "0c82ae68",
   "metadata": {},
   "outputs": [],
   "source": [
    "import time"
   ]
  },
  {
   "cell_type": "markdown",
   "id": "36902ba7",
   "metadata": {},
   "source": [
    "# Decision Tree"
   ]
  },
  {
   "cell_type": "code",
   "execution_count": 130,
   "id": "98e6c33f",
   "metadata": {},
   "outputs": [],
   "source": [
    "DT = DecisionTreeClassifier(random_state = 1)"
   ]
  },
  {
   "cell_type": "code",
   "execution_count": 131,
   "id": "f8f5a954",
   "metadata": {},
   "outputs": [],
   "source": [
    "# np.random.seed(42)\n",
    "# start = time.time()\n",
    "\n",
    "# param_dist = {'max_depth': [2, 3, 4, 6],\n",
    "#               'max_features': ['auto', 'sqrt', 'log2', None],\n",
    "#               'criterion': ['gini', 'entropy']}\n",
    "\n",
    "# cv_rf = GridSearchCV(DT, cv = 10,\n",
    "#                      param_grid=param_dist, \n",
    "#                      n_jobs = 3)\n",
    "\n",
    "# cv_rf.fit(x_train, y_train)\n",
    "# print('Best Parameters using grid search: \\n', cv_rf.best_params_)\n",
    "# end = time.time()\n",
    "# print('Time taken in grid search: {0: .2f}'.format(end - start))"
   ]
  },
  {
   "cell_type": "code",
   "execution_count": 132,
   "id": "e10e5462",
   "metadata": {},
   "outputs": [
    {
     "name": "stdout",
     "output_type": "stream",
     "text": [
      "Training score:  0.919529262086514\n",
      "Testing score:  0.8620470438652257\n"
     ]
    }
   ],
   "source": [
    "DT = DecisionTreeClassifier(criterion='gini', max_depth= 30, max_features= 'auto', random_state = 1)\n",
    "DT.fit(x_train, y_train)\n",
    "DT_train = DT.score(x_train, y_train)\n",
    "print(\"Training score: \",DT_train)\n",
    "DT_test = DT.score(x_test, y_test)\n",
    "print(\"Testing score: \",DT_test)"
   ]
  },
  {
   "cell_type": "code",
   "execution_count": 133,
   "id": "22f7980a",
   "metadata": {},
   "outputs": [],
   "source": [
    "y_pred_DT = DT.predict(x_test)"
   ]
  },
  {
   "cell_type": "code",
   "execution_count": 134,
   "id": "4e999817",
   "metadata": {},
   "outputs": [
    {
     "data": {
      "text/html": [
       "<div>\n",
       "<style scoped>\n",
       "    .dataframe tbody tr th:only-of-type {\n",
       "        vertical-align: middle;\n",
       "    }\n",
       "\n",
       "    .dataframe tbody tr th {\n",
       "        vertical-align: top;\n",
       "    }\n",
       "\n",
       "    .dataframe thead th {\n",
       "        text-align: right;\n",
       "    }\n",
       "</style>\n",
       "<table border=\"1\" class=\"dataframe\">\n",
       "  <thead>\n",
       "    <tr style=\"text-align: right;\">\n",
       "      <th></th>\n",
       "      <th>Ia</th>\n",
       "      <th>Ib</th>\n",
       "      <th>Ic</th>\n",
       "      <th>Va</th>\n",
       "      <th>Vb</th>\n",
       "      <th>Vc</th>\n",
       "    </tr>\n",
       "  </thead>\n",
       "  <tbody>\n",
       "    <tr>\n",
       "      <th>681</th>\n",
       "      <td>672.560880</td>\n",
       "      <td>9.548381</td>\n",
       "      <td>33.420302</td>\n",
       "      <td>0.197884</td>\n",
       "      <td>-0.525933</td>\n",
       "      <td>0.328048</td>\n",
       "    </tr>\n",
       "    <tr>\n",
       "      <th>5850</th>\n",
       "      <td>-69.868110</td>\n",
       "      <td>50.737723</td>\n",
       "      <td>15.659875</td>\n",
       "      <td>0.035241</td>\n",
       "      <td>-0.526321</td>\n",
       "      <td>0.491080</td>\n",
       "    </tr>\n",
       "    <tr>\n",
       "      <th>2332</th>\n",
       "      <td>51.704486</td>\n",
       "      <td>-658.260070</td>\n",
       "      <td>609.249674</td>\n",
       "      <td>0.162669</td>\n",
       "      <td>0.023961</td>\n",
       "      <td>-0.186630</td>\n",
       "    </tr>\n",
       "    <tr>\n",
       "      <th>2153</th>\n",
       "      <td>853.772715</td>\n",
       "      <td>-597.574730</td>\n",
       "      <td>1.934354</td>\n",
       "      <td>0.011775</td>\n",
       "      <td>-0.241407</td>\n",
       "      <td>0.229633</td>\n",
       "    </tr>\n",
       "    <tr>\n",
       "      <th>6992</th>\n",
       "      <td>-60.137466</td>\n",
       "      <td>90.285745</td>\n",
       "      <td>-33.265280</td>\n",
       "      <td>-0.459700</td>\n",
       "      <td>-0.112064</td>\n",
       "      <td>0.571764</td>\n",
       "    </tr>\n",
       "    <tr>\n",
       "      <th>...</th>\n",
       "      <td>...</td>\n",
       "      <td>...</td>\n",
       "      <td>...</td>\n",
       "      <td>...</td>\n",
       "      <td>...</td>\n",
       "      <td>...</td>\n",
       "    </tr>\n",
       "    <tr>\n",
       "      <th>3752</th>\n",
       "      <td>-641.225281</td>\n",
       "      <td>-204.275710</td>\n",
       "      <td>847.592395</td>\n",
       "      <td>-0.040078</td>\n",
       "      <td>0.031971</td>\n",
       "      <td>0.008107</td>\n",
       "    </tr>\n",
       "    <tr>\n",
       "      <th>2207</th>\n",
       "      <td>700.047041</td>\n",
       "      <td>48.729382</td>\n",
       "      <td>39.796815</td>\n",
       "      <td>0.077063</td>\n",
       "      <td>-0.408456</td>\n",
       "      <td>0.331393</td>\n",
       "    </tr>\n",
       "    <tr>\n",
       "      <th>486</th>\n",
       "      <td>-626.240507</td>\n",
       "      <td>-4.015582</td>\n",
       "      <td>-36.227918</td>\n",
       "      <td>-0.222974</td>\n",
       "      <td>0.547918</td>\n",
       "      <td>-0.324944</td>\n",
       "    </tr>\n",
       "    <tr>\n",
       "      <th>4450</th>\n",
       "      <td>-571.588545</td>\n",
       "      <td>-304.606170</td>\n",
       "      <td>876.357673</td>\n",
       "      <td>-0.031213</td>\n",
       "      <td>0.026305</td>\n",
       "      <td>0.004907</td>\n",
       "    </tr>\n",
       "    <tr>\n",
       "      <th>2161</th>\n",
       "      <td>868.820062</td>\n",
       "      <td>-510.213277</td>\n",
       "      <td>9.157131</td>\n",
       "      <td>0.016781</td>\n",
       "      <td>-0.275721</td>\n",
       "      <td>0.258940</td>\n",
       "    </tr>\n",
       "  </tbody>\n",
       "</table>\n",
       "<p>1573 rows × 6 columns</p>\n",
       "</div>"
      ],
      "text/plain": [
       "              Ia          Ib          Ic        Va        Vb        Vc\n",
       "681   672.560880    9.548381   33.420302  0.197884 -0.525933  0.328048\n",
       "5850  -69.868110   50.737723   15.659875  0.035241 -0.526321  0.491080\n",
       "2332   51.704486 -658.260070  609.249674  0.162669  0.023961 -0.186630\n",
       "2153  853.772715 -597.574730    1.934354  0.011775 -0.241407  0.229633\n",
       "6992  -60.137466   90.285745  -33.265280 -0.459700 -0.112064  0.571764\n",
       "...          ...         ...         ...       ...       ...       ...\n",
       "3752 -641.225281 -204.275710  847.592395 -0.040078  0.031971  0.008107\n",
       "2207  700.047041   48.729382   39.796815  0.077063 -0.408456  0.331393\n",
       "486  -626.240507   -4.015582  -36.227918 -0.222974  0.547918 -0.324944\n",
       "4450 -571.588545 -304.606170  876.357673 -0.031213  0.026305  0.004907\n",
       "2161  868.820062 -510.213277    9.157131  0.016781 -0.275721  0.258940\n",
       "\n",
       "[1573 rows x 6 columns]"
      ]
     },
     "execution_count": 134,
     "metadata": {},
     "output_type": "execute_result"
    }
   ],
   "source": [
    "x_test"
   ]
  },
  {
   "cell_type": "code",
   "execution_count": 173,
   "id": "bdb0290e",
   "metadata": {},
   "outputs": [
    {
     "data": {
      "text/plain": [
       "Fault_Type    LLG\n",
       "Name: 2207, dtype: object"
      ]
     },
     "execution_count": 173,
     "metadata": {},
     "output_type": "execute_result"
    }
   ],
   "source": [
    "y_test.loc[2207]"
   ]
  },
  {
   "cell_type": "code",
   "execution_count": 174,
   "id": "d62baed3",
   "metadata": {},
   "outputs": [
    {
     "data": {
      "text/plain": [
       "array(['LLG'], dtype=object)"
      ]
     },
     "execution_count": 174,
     "metadata": {},
     "output_type": "execute_result"
    }
   ],
   "source": [
    "DT.predict([ ])"
   ]
  },
  {
   "cell_type": "code",
   "execution_count": 137,
   "id": "428cc8e6",
   "metadata": {},
   "outputs": [
    {
     "name": "stdout",
     "output_type": "stream",
     "text": [
      "[[216   0   2   1   0   0]\n",
      " [  0 183   0   0   2   0]\n",
      " [  2   0 239   0   0   0]\n",
      " [  0   0   1 108 113   0]\n",
      " [  0   0   1  95 141   0]\n",
      " [  0   0   0   0   0 469]]\n",
      "0.8620470438652257\n"
     ]
    }
   ],
   "source": [
    "from sklearn.metrics import confusion_matrix, classification_report, accuracy_score\n",
    "print (confusion_matrix(y_test, y_pred_DT))\n",
    "DT_score = accuracy_score(y_test, y_pred_DT)\n",
    "print(DT_score)"
   ]
  },
  {
   "cell_type": "code",
   "execution_count": 138,
   "id": "91d6efef",
   "metadata": {},
   "outputs": [
    {
     "name": "stdout",
     "output_type": "stream",
     "text": [
      "              precision    recall  f1-score   support\n",
      "\n",
      "          LG       0.99      0.99      0.99       219\n",
      "          LL       1.00      0.99      0.99       185\n",
      "         LLG       0.98      0.99      0.99       241\n",
      "         LLL       0.53      0.49      0.51       222\n",
      "        LLLG       0.55      0.59      0.57       237\n",
      "     NoFault       1.00      1.00      1.00       469\n",
      "\n",
      "    accuracy                           0.86      1573\n",
      "   macro avg       0.84      0.84      0.84      1573\n",
      "weighted avg       0.86      0.86      0.86      1573\n",
      "\n"
     ]
    }
   ],
   "source": [
    "print(classification_report(y_test, y_pred_DT)) "
   ]
  },
  {
   "cell_type": "markdown",
   "id": "37a90509",
   "metadata": {},
   "source": [
    "# Random Forest"
   ]
  },
  {
   "cell_type": "code",
   "execution_count": 139,
   "id": "10fad4d3",
   "metadata": {},
   "outputs": [],
   "source": [
    "# from sklearn.preprocessing import StandardScaler\n",
    "# sc = StandardScaler()\n",
    "# X_train = sc.fit_transform(x_train)\n",
    "# X_test = sc.transform(x_test)"
   ]
  },
  {
   "cell_type": "code",
   "execution_count": 140,
   "id": "f2b0c5f1",
   "metadata": {},
   "outputs": [
    {
     "data": {
      "text/plain": [
       "array([[ 1.66532985,  0.17737327, -0.03581503,  0.39889201, -1.38902143,\n",
       "         1.04109765],\n",
       "       [ 0.79508642,  1.25144266, -2.45523186,  0.16467226, -0.06676275,\n",
       "        -0.08718173],\n",
       "       [-0.01445457,  0.05446019, -0.0605866 ,  2.05411688, -0.76234922,\n",
       "        -1.15938358],\n",
       "       ...,\n",
       "       [ 1.83420825, -1.05743208, -0.07328357,  0.07714147, -0.88267201,\n",
       "         0.82788636],\n",
       "       [-1.82623078,  1.61990253, -0.08838945, -0.00861297,  0.67693946,\n",
       "        -0.68259574],\n",
       "       [ 1.48651628, -1.74181148,  0.17866136, -0.00443715, -0.10767676,\n",
       "         0.11405325]])"
      ]
     },
     "execution_count": 140,
     "metadata": {},
     "output_type": "execute_result"
    }
   ],
   "source": [
    "X_train"
   ]
  },
  {
   "cell_type": "code",
   "execution_count": 141,
   "id": "054beda9",
   "metadata": {},
   "outputs": [],
   "source": [
    "# RF = RandomForestClassifier(random_state=1)"
   ]
  },
  {
   "cell_type": "code",
   "execution_count": 142,
   "id": "43cf2c56",
   "metadata": {},
   "outputs": [],
   "source": [
    "# np.random.seed(1)\n",
    "# start = time.time()\n",
    "\n",
    "# param_dist = {'max_depth': [2, 3, 4, 6, 8],\n",
    "#               'max_features': ['auto', 'sqrt', 'log2', None],\n",
    "#               'criterion': ['gini', 'entropy']}\n",
    "\n",
    "# cv_rf = GridSearchCV(RF, cv = 10,\n",
    "#                      param_grid=param_dist, \n",
    "#                      n_jobs = 3)\n",
    "\n",
    "# cv_rf.fit(X_train, y_train)\n",
    "# print('Best Parameters using grid search: \\n', cv_rf.best_params_)\n",
    "# end = time.time()\n",
    "# print('Time taken in grid search: {0: .2f}'.format(end - start))"
   ]
  },
  {
   "cell_type": "code",
   "execution_count": 143,
   "id": "ec045e5b",
   "metadata": {},
   "outputs": [
    {
     "data": {
      "text/plain": [
       "RandomForestClassifier(criterion='entropy', max_depth=10, random_state=1)"
      ]
     },
     "execution_count": 143,
     "metadata": {},
     "output_type": "execute_result"
    }
   ],
   "source": [
    "# # Set best parameters given by grid search \n",
    "# RF.set_params(criterion = 'entropy',\n",
    "#                   max_features = 'auto', \n",
    "#                   max_depth = 10)"
   ]
  },
  {
   "cell_type": "code",
   "execution_count": 144,
   "id": "2f453fe9",
   "metadata": {},
   "outputs": [],
   "source": [
    "# X_train"
   ]
  },
  {
   "cell_type": "code",
   "execution_count": 145,
   "id": "c4b02c1a",
   "metadata": {},
   "outputs": [],
   "source": [
    "# import warnings\n",
    "# warnings.filterwarnings('ignore')\n",
    "\n",
    "# RF.set_params(warm_start=True, \n",
    "#                   oob_score=True)\n",
    "\n",
    "# error_rate = {}\n",
    "\n",
    "# for i in range(15, 1000 + 1):\n",
    "#     RF.set_params(n_estimators=i)\n",
    "#     RF.fit(X_train, y_train)\n",
    "\n",
    "#     oob_error = 1 - RF.oob_score_\n",
    "#     error_rate[i] = oob_error"
   ]
  },
  {
   "cell_type": "code",
   "execution_count": 146,
   "id": "23a53655",
   "metadata": {},
   "outputs": [],
   "source": [
    "# Convert dictionary to a pandas series for easy plotting \n",
    "# oob_series = pd.Series(error_rate)"
   ]
  },
  {
   "cell_type": "code",
   "execution_count": 147,
   "id": "d88a21bd",
   "metadata": {},
   "outputs": [
    {
     "data": {
      "text/plain": [
       "Text(0.5, 1.0, 'OOB Error Rate Across various Forest sizes \\n(From 15 to 1000 trees)')"
      ]
     },
     "execution_count": 147,
     "metadata": {},
     "output_type": "execute_result"
    },
    {
     "data": {
      "image/png": "[encoded data removed]",
      "text/plain": [
       "<Figure size 720x432 with 1 Axes>"
      ]
     },
     "metadata": {
      "needs_background": "light"
     },
     "output_type": "display_data"
    }
   ],
   "source": [
    "# fig, ax = plt.subplots(figsize=(10, 6))\n",
    "\n",
    "# ax.set_facecolor('#fafafa')\n",
    "\n",
    "# oob_series.plot(kind='line',color = 'red')\n",
    "# plt.axhline(0.18, color='#875FDB',linestyle='--')\n",
    "# plt.axhline(0.174, color='#875FDB',linestyle='--')\n",
    "# plt.xlabel('n_estimators')\n",
    "# plt.ylabel('OOB Error Rate')\n",
    "# plt.title('OOB Error Rate Across various Forest sizes \\n(From 15 to 1000 trees)')"
   ]
  },
  {
   "cell_type": "code",
   "execution_count": 148,
   "id": "939d662f",
   "metadata": {},
   "outputs": [
    {
     "data": {
      "text/plain": [
       "RandomForestClassifier(max_depth=8, n_estimators=200, random_state=0)"
      ]
     },
     "execution_count": 148,
     "metadata": {},
     "output_type": "execute_result"
    }
   ],
   "source": [
    "# RF = RandomForestClassifier(n_estimators = 200, criterion = 'gini', max_features = 'auto', \n",
    "#                   max_depth = 8, random_state = 0)\n",
    "# RF.fit(X_train, y_train)"
   ]
  },
  {
   "cell_type": "code",
   "execution_count": 149,
   "id": "4d570c27",
   "metadata": {},
   "outputs": [],
   "source": [
    "# y_pred_RF = RF.predict(X_test)"
   ]
  },
  {
   "cell_type": "code",
   "execution_count": 150,
   "id": "4236c66c",
   "metadata": {},
   "outputs": [
    {
     "name": "stdout",
     "output_type": "stream",
     "text": [
      "Training score:  0.9147582697201018\n",
      "Testing score:  0.803560076287349\n"
     ]
    }
   ],
   "source": [
    "# from sklearn.metrics import confusion_matrix, accuracy_score\n",
    "# RF_train = RF.score(X_train, y_train)\n",
    "# print(\"Training score: \",RF_train)\n",
    "# RF_test = RF.score(X_test, y_test)\n",
    "# print(\"Testing score: \",RF_test)\n",
    "# RF_score = accuracy_score(y_test, y_pred_RF)"
   ]
  },
  {
   "cell_type": "code",
   "execution_count": 151,
   "id": "1f7a605c",
   "metadata": {},
   "outputs": [
    {
     "name": "stdout",
     "output_type": "stream",
     "text": [
      "[[218   0   0   1   0   0]\n",
      " [  0 182   0   0   0   3]\n",
      " [  9   0 232   0   0   0]\n",
      " [  0   0   0  73 149   0]\n",
      " [  5   0   5 137  90   0]\n",
      " [  0   0   0   0   0 469]]\n",
      "0.803560076287349\n"
     ]
    }
   ],
   "source": [
    "# cm_rf = confusion_matrix(y_test, y_pred_RF)\n",
    "# print(cm_rf)\n",
    "# RF_score = accuracy_score(y_test, y_pred_RF)\n",
    "# print(RF_score)"
   ]
  },
  {
   "cell_type": "markdown",
   "id": "bcf885ca",
   "metadata": {},
   "source": [
    "# Support Vector Machine"
   ]
  },
  {
   "cell_type": "code",
   "execution_count": 152,
   "id": "f4a61598",
   "metadata": {},
   "outputs": [
    {
     "data": {
      "text/plain": [
       "SVC(kernel='linear', random_state=0)"
      ]
     },
     "execution_count": 152,
     "metadata": {},
     "output_type": "execute_result"
    }
   ],
   "source": [
    "# svl= SVC(kernel = 'linear', random_state = 0)\n",
    "# svl.fit(X_train, y_train)"
   ]
  },
  {
   "cell_type": "code",
   "execution_count": 153,
   "id": "d52accbb",
   "metadata": {},
   "outputs": [],
   "source": [
    "# y_pred_linear = svl.predict(X_test)"
   ]
  },
  {
   "cell_type": "code",
   "execution_count": 154,
   "id": "5bc27b48",
   "metadata": {},
   "outputs": [
    {
     "name": "stdout",
     "output_type": "stream",
     "text": [
      "[[219   0   0   0   0   0]\n",
      " [ 35  59   2   0   2  87]\n",
      " [ 36  22  83   0  93   7]\n",
      " [ 46  42  21  38   2  73]\n",
      " [ 50  38  21  45  12  71]\n",
      " [  0   0   0   0   0 469]]\n",
      "0.5594405594405595\n"
     ]
    }
   ],
   "source": [
    "# from sklearn.metrics import confusion_matrix, accuracy_score\n",
    "# cm_svl = confusion_matrix(y_test, y_pred_linear)\n",
    "# print(cm_svl)\n",
    "# svc_linear_score = accuracy_score(y_test, y_pred_linear)\n",
    "# print(svc_linear_score)"
   ]
  },
  {
   "cell_type": "code",
   "execution_count": 155,
   "id": "bb9078f7",
   "metadata": {},
   "outputs": [
    {
     "data": {
      "text/plain": [
       "SVC(kernel='poly', random_state=0)"
      ]
     },
     "execution_count": 155,
     "metadata": {},
     "output_type": "execute_result"
    }
   ],
   "source": [
    "# svp= SVC(kernel = 'poly', random_state = 0)\n",
    "# svp.fit(X_train, y_train)"
   ]
  },
  {
   "cell_type": "code",
   "execution_count": 156,
   "id": "2dbbf417",
   "metadata": {},
   "outputs": [],
   "source": [
    "# y_pred_poly = svp.predict(X_test)"
   ]
  },
  {
   "cell_type": "code",
   "execution_count": 157,
   "id": "3bc3f539",
   "metadata": {},
   "outputs": [
    {
     "name": "stdout",
     "output_type": "stream",
     "text": [
      "[[209   1   3   4   1   1]\n",
      " [  2 106  12   6   0  59]\n",
      " [ 69  18 115   3  36   0]\n",
      " [  0  50  44  42  86   0]\n",
      " [ 11  59  51  38  78   0]\n",
      " [  0   0   0   0   0 469]]\n",
      "0.6478067387158296\n"
     ]
    }
   ],
   "source": [
    "# from sklearn.metrics import confusion_matrix, accuracy_score\n",
    "# cm_svp = confusion_matrix(y_test, y_pred_poly)\n",
    "# print(cm_svp)\n",
    "# svc_poly_score = accuracy_score(y_test, y_pred_poly)\n",
    "# print(svc_poly_score)"
   ]
  },
  {
   "cell_type": "code",
   "execution_count": 158,
   "id": "5658b3c4",
   "metadata": {},
   "outputs": [
    {
     "data": {
      "text/plain": [
       "SVC(random_state=0)"
      ]
     },
     "execution_count": 158,
     "metadata": {},
     "output_type": "execute_result"
    }
   ],
   "source": [
    "# svr= SVC(kernel = 'rbf', random_state = 0)\n",
    "# svr.fit(X_train, y_train)"
   ]
  },
  {
   "cell_type": "code",
   "execution_count": 159,
   "id": "b96f107e",
   "metadata": {},
   "outputs": [],
   "source": [
    "# y_pred_rbf = svr.predict(X_test)"
   ]
  },
  {
   "cell_type": "code",
   "execution_count": 160,
   "id": "5b1e1275",
   "metadata": {},
   "outputs": [
    {
     "name": "stdout",
     "output_type": "stream",
     "text": [
      "[[206   0   3   0   0  10]\n",
      " [  0 152   0   5   0  28]\n",
      " [  9   0 232   0   0   0]\n",
      " [  0   0   9 121  92   0]\n",
      " [  8   0  12 146  71   0]\n",
      " [  0   0   0   0   0 469]]\n",
      "0.7952956134774316\n"
     ]
    }
   ],
   "source": [
    "# from sklearn.metrics import confusion_matrix, accuracy_score\n",
    "# cm = confusion_matrix(y_test, y_pred_rbf)\n",
    "# print(cm)\n",
    "# svc_rbf_score = accuracy_score(y_test, y_pred_rbf)\n",
    "# print(svc_rbf_score)\n"
   ]
  },
  {
   "cell_type": "markdown",
   "id": "a1f8a398",
   "metadata": {},
   "source": [
    "# K Nearest Neighbour"
   ]
  },
  {
   "cell_type": "code",
   "execution_count": 161,
   "id": "08567480",
   "metadata": {},
   "outputs": [
    {
     "data": {
      "text/plain": [
       "KNeighborsClassifier(n_neighbors=2)"
      ]
     },
     "execution_count": 161,
     "metadata": {},
     "output_type": "execute_result"
    }
   ],
   "source": [
    "# knn = KNeighborsClassifier(n_neighbors = 2, metric = 'minkowski', p = 2)\n",
    "# knn.fit(X_train, y_train)"
   ]
  },
  {
   "cell_type": "code",
   "execution_count": 162,
   "id": "eaaba335",
   "metadata": {},
   "outputs": [],
   "source": [
    "# y_pred_knn = knn.predict(X_test)"
   ]
  },
  {
   "cell_type": "code",
   "execution_count": 163,
   "id": "83fcbc3c",
   "metadata": {},
   "outputs": [
    {
     "name": "stdout",
     "output_type": "stream",
     "text": [
      "[[218   0   0   1   0   0]\n",
      " [  0 185   0   0   0   0]\n",
      " [  3   0 238   0   0   0]\n",
      " [  0   0   0 179  43   0]\n",
      " [  0   0   0 211  26   0]\n",
      " [  0   0   0   0   0 469]]\n",
      "0.8359821996185632\n"
     ]
    }
   ],
   "source": [
    "# from sklearn.metrics import confusion_matrix, accuracy_score\n",
    "# cm_knn = confusion_matrix(y_test, y_pred_knn)\n",
    "# print(cm_knn)\n",
    "# knn_score = accuracy_score(y_test, y_pred_knn)\n",
    "# print(knn_score)\n"
   ]
  },
  {
   "cell_type": "markdown",
   "id": "16241576",
   "metadata": {},
   "source": [
    "# Logistic Regression "
   ]
  },
  {
   "cell_type": "code",
   "execution_count": 164,
   "id": "d88df148",
   "metadata": {},
   "outputs": [
    {
     "data": {
      "text/plain": [
       "LogisticRegression(random_state=0)"
      ]
     },
     "execution_count": 164,
     "metadata": {},
     "output_type": "execute_result"
    }
   ],
   "source": [
    "# lr = LogisticRegression(random_state = 0)\n",
    "# lr.fit(X_train, y_train)"
   ]
  },
  {
   "cell_type": "code",
   "execution_count": 165,
   "id": "547c2222",
   "metadata": {},
   "outputs": [],
   "source": [
    "# y_pred_lr = lr.predict(X_test)\n"
   ]
  },
  {
   "cell_type": "code",
   "execution_count": 166,
   "id": "63d68976",
   "metadata": {},
   "outputs": [
    {
     "name": "stdout",
     "output_type": "stream",
     "text": [
      "[[  0   0   0   0   0 219]\n",
      " [  0  21   0   6   0 158]\n",
      " [  0   0  46   0   0 195]\n",
      " [  0  22   0  14   0 186]\n",
      " [  0  28   0  15   0 194]\n",
      " [  0   0   0   0   0 469]]\n",
      "0.34965034965034963\n"
     ]
    }
   ],
   "source": [
    "# from sklearn.metrics import confusion_matrix, accuracy_score\n",
    "# cm_lr = confusion_matrix(y_test, y_pred_lr)\n",
    "# print(cm_lr)\n",
    "# lr_score = accuracy_score(y_test, y_pred_lr)\n",
    "# print(lr_score)\n"
   ]
  },
  {
   "cell_type": "markdown",
   "id": "48f6965d",
   "metadata": {},
   "source": [
    "# Naive Bayes"
   ]
  },
  {
   "cell_type": "code",
   "execution_count": 167,
   "id": "0fbc9788",
   "metadata": {},
   "outputs": [
    {
     "data": {
      "text/plain": [
       "GaussianNB()"
      ]
     },
     "execution_count": 167,
     "metadata": {},
     "output_type": "execute_result"
    }
   ],
   "source": [
    "# nb = GaussianNB()\n",
    "# nb.fit(X_train, y_train)"
   ]
  },
  {
   "cell_type": "code",
   "execution_count": 168,
   "id": "d25fe343",
   "metadata": {},
   "outputs": [],
   "source": [
    "# y_pred_nb = nb.predict(X_test)\n",
    "# # print(np.concatenate((y_pred.reshape(len(y_pred),1), y_test.reshape(len(y_test),1)),1))"
   ]
  },
  {
   "cell_type": "code",
   "execution_count": 169,
   "id": "e7c14796",
   "metadata": {},
   "outputs": [
    {
     "name": "stdout",
     "output_type": "stream",
     "text": [
      "[[199   0   0   0   0  20]\n",
      " [  0 168   0   3   0  14]\n",
      " [ 28   0 208   5   0   0]\n",
      " [  0  10  21 160  31   0]\n",
      " [ 12  13  18 164  30   0]\n",
      " [  0   0   0   0   0 469]]\n",
      "0.7844882390336936\n"
     ]
    }
   ],
   "source": [
    "# from sklearn.metrics import confusion_matrix, accuracy_score\n",
    "# cm_nb = confusion_matrix(y_test, y_pred_nb)\n",
    "# print(cm_nb)\n",
    "# nb_score = accuracy_score(y_test, y_pred_nb)\n",
    "# print(nb_score)\n"
   ]
  },
  {
   "cell_type": "code",
   "execution_count": 170,
   "id": "bf1fe68a",
   "metadata": {},
   "outputs": [],
   "source": [
    "model_lst = [DT_score, RF_score, svc_linear_score, svc_poly_score, svc_rbf_score, knn_score, lr_score, nb_score]"
   ]
  },
  {
   "cell_type": "code",
   "execution_count": 171,
   "id": "3eedc061",
   "metadata": {},
   "outputs": [
    {
     "name": "stdout",
     "output_type": "stream",
     "text": [
      "0.8620470438652257\n",
      "0.803560076287349\n",
      "0.5594405594405595\n",
      "0.6478067387158296\n",
      "0.7952956134774316\n",
      "0.8359821996185632\n",
      "0.34965034965034963\n",
      "0.7844882390336936\n"
     ]
    }
   ],
   "source": [
    "final_model = []\n",
    "for i in model_lst:\n",
    "#     print(i)\n",
    "    final_model.append(i)\n",
    "    best_model = max(final_model)\n",
    "best_model"
   ]
  },
  {
   "cell_type": "code",
   "execution_count": 172,
   "id": "6c11b085",
   "metadata": {},
   "outputs": [
    {
     "data": {
      "text/plain": [
       "0.8620470438652257"
      ]
     },
     "execution_count": 172,
     "metadata": {},
     "output_type": "execute_result"
    }
   ],
   "source": []
  },
  {
   "cell_type": "code",
   "execution_count": null,
   "id": "dc50b56f",
   "metadata": {},
   "outputs": [],
   "source": [
    "plt.rcParams['figure.figsize'] = 20, 8\n",
    "sns.set_style('darkgrid')\n",
    "ax = sns.barplot(x=model_list, y=accuracy_list, palette = 'husl', saturation=2.0)\n",
    "plt.xlabel('Classifier Models', fontsize=20)\n",
    "plt.ylabel('% of Accuracy', fontsize=20)\n",
    "plt.title('Accuracy of different Classifier Models', fontsize=20)\n",
    "plt.xticks(fontsize = 12, horizontalalignment = 'center', rotation = 8)\n",
    "plt.yticks(fontsize = 12)\n",
    "for i in ax.patches:\n",
    "    width, height = i.get_width(), i.get_height()\n",
    "    x, y = i.get_xy()\n",
    "    ax.annotate(f'{round(height, 2)}%', ( x + width/2, y + height* 1.02), ha='center', fontsize='x-large')\n",
    "    plt.show()"
   ]
  }
 ],
 "metadata": {
  "kernelspec": {
   "display_name": "Python 3",
   "language": "python",
   "name": "python3"
  },
  "language_info": {
   "codemirror_mode": {
    "name": "ipython",
    "version": 3
   },
   "file_extension": ".py",
   "mimetype": "text/x-python",
   "name": "python",
   "nbconvert_exporter": "python",
   "pygments_lexer": "ipython3",
   "version": "3.8.8"
  }
 },
 "nbformat": 4,
 "nbformat_minor": 5
}
